{
 "cells": [
  {
   "cell_type": "code",
   "execution_count": 1,
   "metadata": {},
   "outputs": [],
   "source": [
    "dictionary = dict()\n",
    "for i in range(256):\n",
    "    dictionary[chr(i)] = i\n",
    "\n",
    "next_code = len(dictionary)"
   ]
  },
  {
   "cell_type": "code",
   "execution_count": 2,
   "metadata": {},
   "outputs": [],
   "source": [
    "class lzw_encoder:\n",
    "\n",
    "    def __init__(self):\n",
    "        self.dictionary = dict()\n",
    "        self.next_code = 0\n",
    "        for i in range(256):\n",
    "            self.add_to_dictionary(chr(i))\n",
    "\n",
    "    def add_to_dictionary(self, str):\n",
    "        self.dictionary[str] = self.next_code\n",
    "        self.next_code += 1\n",
    "\n",
    "    def encode(self, str):\n",
    "        r = []\n",
    "        buffer = \"\"\n",
    "        for i in range(len(str)):\n",
    "            c = str[i]\n",
    "\n",
    "            if len(buffer) == 0 or self.dictionary.get(buffer + c):\n",
    "                buffer += c\n",
    "\n",
    "            else:\n",
    "                code = self.dictionary[buffer]\n",
    "                self.add_to_dictionary(buffer + c)\n",
    "                buffer = c\n",
    "                r.append(code)\n",
    "\n",
    "        if buffer:\n",
    "            r.append(self.dictionary[buffer])\n",
    "\n",
    "        return r"
   ]
  },
  {
   "cell_type": "code",
   "execution_count": 3,
   "metadata": {},
   "outputs": [],
   "source": [
    "class lzw_decoder:\n",
    "\n",
    "    def __init__(self):\n",
    "        self.next_code = 0\n",
    "        self.dictionary = dict()\n",
    "        for i in range(256):\n",
    "            self.add_to_dictionary(chr(i))\n",
    "\n",
    "    def add_to_dictionary(self, str):\n",
    "        self.dictionary[self.next_code] = str\n",
    "        self.next_code += 1\n",
    "\n",
    "    def decode(self, symbols):\n",
    "        last_symbol = symbols[0]\n",
    "        r = self.dictionary[last_symbol]\n",
    "\n",
    "        for symbol in symbols[1:]:\n",
    "            if self.dictionary.get(symbol):\n",
    "                current = self.dictionary[symbol]\n",
    "                previous = self.dictionary[last_symbol]\n",
    "                to_add = current[0]\n",
    "                self.add_to_dictionary(previous + to_add)\n",
    "                r += current\n",
    "            else:\n",
    "                previous = self.dictionary[last_symbol]\n",
    "                to_add = previous[0]\n",
    "                self.add_to_dictionary(previous + to_add)\n",
    "                r += previous + to_add\n",
    "            last_symbol = symbol\n",
    "        return r"
   ]
  },
  {
   "cell_type": "code",
   "execution_count": 4,
   "metadata": {},
   "outputs": [
    {
     "name": "stdout",
     "output_type": "stream",
     "text": [
      "encoded: [65, 95, 65, 83, 256, 68, 256, 67, 258, 256, 69, 77, 95, 263, 259]\n",
      "decoded: A_ASA_DA_CASA_EM_CASA\n"
     ]
    }
   ],
   "source": [
    "if __name__ == \"__main__\":\n",
    "    str = \"A_ASA_DA_CASA_EM_CASA\"\n",
    "    encoder = lzw_encoder()\n",
    "    encoded = encoder.encode(str)\n",
    "    print(\"encoded:\", encoded)\n",
    "\n",
    "    decoder = lzw_decoder()\n",
    "    decoded = decoder.decode(encoded)\n",
    "    print(\"decoded:\", decoded)"
   ]
  },
  {
   "cell_type": "code",
   "execution_count": 8,
   "metadata": {},
   "outputs": [],
   "source": [
    "from trie import PatriciaTrie"
   ]
  },
  {
   "cell_type": "code",
   "execution_count": 9,
   "metadata": {},
   "outputs": [
    {
     "name": "stdout",
     "output_type": "stream",
     "text": [
      "True\n",
      "False\n"
     ]
    }
   ],
   "source": [
    "trie = PatriciaTrie()\n",
    "\n",
    "trie.add('abc')\n",
    "trie.add('fgh')\n",
    "trie.has_prefix('ab')\n",
    "print('abc' in trie)\n",
    "print(trie.find('a'))"
   ]
  }
 ],
 "metadata": {
  "kernelspec": {
   "display_name": "Python 3",
   "language": "python",
   "name": "python3"
  },
  "language_info": {
   "codemirror_mode": {
    "name": "ipython",
    "version": 3
   },
   "file_extension": ".py",
   "mimetype": "text/x-python",
   "name": "python",
   "nbconvert_exporter": "python",
   "pygments_lexer": "ipython3",
   "version": "3.10.12"
  }
 },
 "nbformat": 4,
 "nbformat_minor": 2
}
