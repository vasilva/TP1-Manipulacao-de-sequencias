{
 "cells": [
  {
   "cell_type": "code",
   "execution_count": 17,
   "metadata": {},
   "outputs": [],
   "source": [
    "from trie import RadixTree\n",
    "from lzw import *\n",
    "import os\n",
    "from Str_functions import *"
   ]
  },
  {
   "cell_type": "code",
   "execution_count": 18,
   "metadata": {
    "colab": {
     "base_uri": "https://localhost:8080/"
    },
    "executionInfo": {
     "elapsed": 5,
     "status": "ok",
     "timestamp": 1731107873113,
     "user": {
      "displayName": "Vinícius Alexandre",
      "userId": "02678239040136017208"
     },
     "user_tz": 180
    },
    "id": "cZVp3SWxlOrJ",
    "outputId": "cfc6e5f3-ea75-4b15-9646-beb9fa984c41"
   },
   "outputs": [
    {
     "name": "stdout",
     "output_type": "stream",
     "text": [
      "{'word': 0, 'word1': 1, 'word12': 4, 'word2': 2, 'word3': 3, 'a': 6, 'abc': 5, 'bc': 7}\n",
      "[('word', 0), ('word1', 1), ('word2', 2), ('word3', 3), ('abc', 5), ('bc', 7), ('c', 8), ('bcd', 9), ('aaa', 10), ('abd', 11)]\n",
      "[('aaa', 10), ('abc', 5), ('abd', 11), ('bc', 7), ('bcd', 9), ('c', 8), ('word', 0), ('word1', 1), ('word2', 2), ('word3', 3)]\n",
      "0\n"
     ]
    }
   ],
   "source": [
    "tree = RadixTree()\n",
    "tree.insert_many([\"word\", \"word1\", \"word2\", \"word3\", \"word12\", \"abc\", \"a\", \"bc\"])\n",
    "print(tree)\n",
    "tree -= \"a\"\n",
    "tree += \"c\"\n",
    "tree += \"bcd\"\n",
    "tree += \"aaa\"\n",
    "tree -= \"word12\"\n",
    "tree += \"abd\"\n",
    "print(tree.sort(by=\"index\"))\n",
    "print(tree.sort(by=\"word\"))\n",
    "print(tree[\"word\"])"
   ]
  },
  {
   "cell_type": "code",
   "execution_count": 19,
   "metadata": {
    "colab": {
     "base_uri": "https://localhost:8080/"
    },
    "executionInfo": {
     "elapsed": 5,
     "status": "ok",
     "timestamp": 1731107873114,
     "user": {
      "displayName": "Vinícius Alexandre",
      "userId": "02678239040136017208"
     },
     "user_tz": 180
    },
    "id": "TzGxO0JjV61Q",
    "outputId": "f2e4633a-ab55-4414-a290-edb51247c0d3"
   },
   "outputs": [
    {
     "name": "stdout",
     "output_type": "stream",
     "text": [
      "['banana', 'bananas', 'band', 'bandana', 'beast', 'apple', 'all']\n",
      "--- b\n",
      "------ an\n",
      "--------- anas:    (1)\n",
      "--------- d:    (3)\n",
      "------------ ana:    (2)\n",
      "------ east:    (6)\n",
      "--- apple:    (4)\n"
     ]
    }
   ],
   "source": [
    "def test_trie() -> bool:\n",
    "    words = \"banana bananas bandana band apple all beast\".split()\n",
    "    root = RadixTree()\n",
    "    root.insert_many(words)\n",
    "    words_list = list(root.all_words())\n",
    "    print(words_list)\n",
    "    assert len(words) == len(words_list)\n",
    "    assert words.sort() == words_list.sort()\n",
    "    assert not root.find(\"bandanas\")[0]\n",
    "    assert not root.find(\"apps\")[0]\n",
    "    root.delete(\"all\")\n",
    "    assert not root.find(\"all\")[0]\n",
    "    root.delete(\"banana\")\n",
    "    assert not root.find(\"banana\")[0]\n",
    "    assert root.find(\"bananas\")[0]\n",
    "    root += \"a\"\n",
    "    assert root.find(\"a\")[0]\n",
    "    root -= \"a\"\n",
    "    assert not root.find(\"a\")[0]\n",
    "    assert not root.find(\"apps\")[0]\n",
    "    assert root.find(\"apple\")[0]\n",
    "    root.print_tree()\n",
    "    return True\n",
    "\n",
    "\n",
    "def pytests() -> None:\n",
    "    assert test_trie()\n",
    "\n",
    "\n",
    "pytests()"
   ]
  },
  {
   "cell_type": "code",
   "execution_count": 20,
   "metadata": {
    "executionInfo": {
     "elapsed": 4,
     "status": "ok",
     "timestamp": 1731107873114,
     "user": {
      "displayName": "Vinícius Alexandre",
      "userId": "02678239040136017208"
     },
     "user_tz": 180
    },
    "id": "pX5ssws36wQE"
   },
   "outputs": [],
   "source": [
    "def write_codes(codes, compressed_codes, n_bits, infile, by=\"ascii\"):\n",
    "    \"\"\"\n",
    "    Escreve os códigos em um arquivo.\n",
    "\n",
    "    Args:\n",
    "        codes (str): Códigos a serem escritos.\n",
    "        compressed_codes (str): Códigos comprimidos.\n",
    "        n_bits (int): Número de bits por código.\n",
    "        infile (str): Nome do arquivo de entrada.\n",
    "    \"\"\"\n",
    "    with open('tests/'+infile, \"r\", encoding=\"utf-8\") as file:\n",
    "        size = len(file.read())\n",
    "        file_name = \"encoded/\" + infile.split(\".\")[0] + \"_codes.txt\"\n",
    "        if not os.path.exists(\"encoded\"):\n",
    "            os.makedirs(\"encoded\")\n",
    "        if not os.path.exists(file_name):\n",
    "            open(file_name, \"x\")\n",
    "        with open(file_name, \"w\", encoding=\"utf-8\") as file:\n",
    "            file.write(f\"Arquivo de entrada: {infile}\\n\")\n",
    "            file.write(f\"Formato: {by}\\n\\n\")\n",
    "            file.write(f\"LZW Codes:\\n\")\n",
    "            file.write(f\"{codes}\\n\\n\")\n",
    "            file.write(f\"Compressed LZW Codes:\\n\")\n",
    "            file.write(f\"{compressed_codes}\\n\")\n",
    "            file.write(f\"Number of bits per code: {n_bits}\\n\\n\")\n",
    "            file.write(f\"Original Size:     {size*8} bits\\n\")\n",
    "            file.write(f\"Compressed Size:   {len(compressed_codes)} bits\\n\")\n",
    "            file.write(f\"Compression Ratio: {size*8/len(compressed_codes)}\")\n",
    "            file.close()"
   ]
  },
  {
   "cell_type": "code",
   "execution_count": 21,
   "metadata": {
    "executionInfo": {
     "elapsed": 3,
     "status": "ok",
     "timestamp": 1731107873114,
     "user": {
      "displayName": "Vinícius Alexandre",
      "userId": "02678239040136017208"
     },
     "user_tz": 180
    },
    "id": "NcUOIaACSx4q"
   },
   "outputs": [],
   "source": [
    "def main():\n",
    "    \"\"\"\n",
    "    Exemplo de uso.\n",
    "    \"\"\"\n",
    "    n_files = 3\n",
    "    path = \"tests\"\n",
    "    files = [f\"ex ({i}).txt\" for i in range(1, n_files + 1)]\n",
    "    for file_name in files:\n",
    "        f = path + \"/\" + file_name\n",
    "        with open(f, \"r\", encoding=\"utf-8\") as file:\n",
    "            print(\"-\" * 50)\n",
    "            print(f\"File: {file_name}\")\n",
    "            s = file.read()\n",
    "            print(\"-\" * 50)\n",
    "            compressed_ascii, n_bits = encoder(s, by=\"ascii\")\n",
    "            write_codes(\n",
    "                decompress(compressed_ascii, n_bits),\n",
    "                compressed_ascii,\n",
    "                n_bits,\n",
    "                file_name,\n",
    "                by=\"ascii\",\n",
    "            )"
   ]
  },
  {
   "cell_type": "code",
   "execution_count": 22,
   "metadata": {
    "colab": {
     "base_uri": "https://localhost:8080/"
    },
    "executionInfo": {
     "elapsed": 3,
     "status": "ok",
     "timestamp": 1731107873114,
     "user": {
      "displayName": "Vinícius Alexandre",
      "userId": "02678239040136017208"
     },
     "user_tz": 180
    },
    "id": "5NAdf5TkTWr6",
    "outputId": "70d65f0a-e5b8-4713-dd6e-d5de8f6455b5"
   },
   "outputs": [
    {
     "name": "stdout",
     "output_type": "stream",
     "text": [
      "--------------------------------------------------\n",
      "File: ex (1).txt\n",
      "--------------------------------------------------\n",
      "Encoding ascii text...\n",
      "Original Size:     168 bits\n",
      "Compressed Size:   135 bits\n",
      "Compression Ratio: 1.2444444444444445\n",
      "--------------------------------------------------\n",
      "File: ex (2).txt\n",
      "--------------------------------------------------\n",
      "Encoding ascii text...\n",
      "Original Size:     93944 bits\n",
      "Compressed Size:   36336 bits\n",
      "Compression Ratio: 2.5854249229414354\n",
      "--------------------------------------------------\n",
      "File: ex (3).txt\n",
      "--------------------------------------------------\n",
      "Encoding ascii text...\n",
      "Original Size:     71768 bits\n",
      "Compressed Size:   40092 bits\n",
      "Compression Ratio: 1.7900828095380625\n"
     ]
    }
   ],
   "source": [
    "if __name__ == \"__main__\":\n",
    "    main()"
   ]
  }
 ],
 "metadata": {
  "colab": {
   "provenance": []
  },
  "kernelspec": {
   "display_name": "Python 3",
   "name": "python3"
  },
  "language_info": {
   "codemirror_mode": {
    "name": "ipython",
    "version": 3
   },
   "file_extension": ".py",
   "mimetype": "text/x-python",
   "name": "python",
   "nbconvert_exporter": "python",
   "pygments_lexer": "ipython3",
   "version": "3.10.12"
  }
 },
 "nbformat": 4,
 "nbformat_minor": 0
}
